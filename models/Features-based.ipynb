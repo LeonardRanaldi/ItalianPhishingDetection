{
 "cells": [
  {
   "cell_type": "code",
   "execution_count": null,
   "id": "eb0141d3-8d29-419a-91ab-5eb58a5afd21",
   "metadata": {},
   "outputs": [],
   "source": [
    "import pandas as pd\n",
    "import numpy as np\n",
    "import seaborn as sns\n",
    "import matplotlib.pyplot as plt\n",
    "from sklearn.metrics import accuracy_score"
   ]
  },
  {
   "cell_type": "code",
   "execution_count": null,
   "id": "3522d8bf-62bd-44e5-a627-66a673b0c7ec",
   "metadata": {},
   "outputs": [],
   "source": [
    "data0 = pd.read_csv('dataset.csv')\n",
    "data0.head()"
   ]
  },
  {
   "cell_type": "code",
   "execution_count": null,
   "id": "4eed8d80-3b75-483b-95a9-49d9e171c794",
   "metadata": {},
   "outputs": [],
   "source": [
    "data0.info()"
   ]
  },
  {
   "cell_type": "code",
   "execution_count": null,
   "id": "2c625f5d-5b7d-4483-ae1a-c1ae7bb9f7e6",
   "metadata": {},
   "outputs": [],
   "source": [
    "data = data0.drop(['Domain'], axis = 1).copy()\n",
    "data.isnull().sum()"
   ]
  },
  {
   "cell_type": "code",
   "execution_count": null,
   "id": "e04ac9ce-d00d-4e44-a17c-546b98c1af0d",
   "metadata": {},
   "outputs": [],
   "source": [
    "data = data.sample(frac=1).reset_index(drop=True)\n",
    "data.head()"
   ]
  },
  {
   "cell_type": "code",
   "execution_count": null,
   "id": "00e99b1c-d019-47f6-9663-c439929513d3",
   "metadata": {},
   "outputs": [],
   "source": [
    "y = data['Label']\n",
    "X = data.drop('Label',axis=1)\n",
    "X.shape, y.shape"
   ]
  },
  {
   "cell_type": "code",
   "execution_count": null,
   "id": "42bcf717-7071-4581-8a8b-1d37b0eb9ca9",
   "metadata": {},
   "outputs": [],
   "source": [
    "from sklearn.model_selection import train_test_split\n",
    "\n",
    "X_train, X_test, y_train, y_test = train_test_split(X, y,test_size = 0.3, random_state = 12)\n",
    "X_train.shape, X_test.shape"
   ]
  },
  {
   "cell_type": "code",
   "execution_count": null,
   "id": "7a49fd1a-7971-4552-82e3-aa1c3a89c459",
   "metadata": {},
   "outputs": [],
   "source": [
    "ML_Model = []\n",
    "acc_train = []\n",
    "acc_test = []\n",
    "\n",
    "def storeResults(model, a,b):\n",
    "  ML_Model.append(model)\n",
    "  acc_train.append(round(a, 3))\n",
    "  acc_test.append(round(b, 3))"
   ]
  },
  {
   "cell_type": "markdown",
   "id": "ec2961cc-f97e-49e1-9a65-9d610f6a67b1",
   "metadata": {},
   "source": [
    "##  Decision Tree"
   ]
  },
  {
   "cell_type": "code",
   "execution_count": null,
   "id": "b031117b-669a-4c6a-b552-575c2c16039e",
   "metadata": {},
   "outputs": [],
   "source": [
    "from sklearn.tree import DecisionTreeClassifier\n",
    "tree = DecisionTreeClassifier(max_depth = 5)\n",
    "tree.fit(X_train, y_train)"
   ]
  },
  {
   "cell_type": "code",
   "execution_count": null,
   "id": "ac5d4b2a-bfd4-4ca2-9bdf-3e7d4177e9b9",
   "metadata": {},
   "outputs": [],
   "source": [
    "y_test_tree = tree.predict(X_test)\n",
    "y_train_tree = tree.predict(X_train)"
   ]
  },
  {
   "cell_type": "code",
   "execution_count": null,
   "id": "0bc6c1cf-9e47-468d-bbdf-0be78dc98b4c",
   "metadata": {},
   "outputs": [],
   "source": [
    "acc_train_tree = accuracy_score(y_train,y_train_tree)\n",
    "acc_test_tree = accuracy_score(y_test,y_test_tree)\n",
    "\n",
    "print(\"Decision Tree: Accuracy on training Data: {:.3f}\".format(acc_train_tree))\n",
    "print(\"Decision Tree: Accuracy on test Data: {:.3f}\".format(acc_test_tree))"
   ]
  },
  {
   "cell_type": "code",
   "execution_count": null,
   "id": "a89c69d6-abf0-4b3b-ad1f-3144f3c72d30",
   "metadata": {},
   "outputs": [],
   "source": [
    "plt.figure(figsize=(9,7))\n",
    "n_features = X_train.shape[1]\n",
    "plt.barh(range(n_features), tree.feature_importances_, align='center')\n",
    "plt.yticks(np.arange(n_features), X_train.columns)\n",
    "plt.xlabel(\"Feature importance\")\n",
    "plt.ylabel(\"Feature\")\n",
    "plt.show()"
   ]
  },
  {
   "cell_type": "code",
   "execution_count": null,
   "id": "c4e03181-d5f1-4efa-aea8-b3371c8d362f",
   "metadata": {},
   "outputs": [],
   "source": [
    "X_train.columns"
   ]
  },
  {
   "cell_type": "markdown",
   "id": "61697098-ddbb-4aa5-875b-acc00f418b39",
   "metadata": {},
   "source": [
    "##  Random Forest"
   ]
  },
  {
   "cell_type": "code",
   "execution_count": null,
   "id": "a66a5e23-a031-4883-bb29-2f18b7cb7ab8",
   "metadata": {},
   "outputs": [],
   "source": [
    "from sklearn.ensemble import RandomForestClassifier\n",
    "forest = RandomForestClassifier(max_depth=5)\n",
    "forest.fit(X_train, y_train)"
   ]
  },
  {
   "cell_type": "code",
   "execution_count": null,
   "id": "735f17a4-d4bb-4211-8358-6d230da04263",
   "metadata": {},
   "outputs": [],
   "source": [
    "y_test_forest = forest.predict(X_test)\n",
    "y_train_forest = forest.predict(X_train)"
   ]
  },
  {
   "cell_type": "code",
   "execution_count": null,
   "id": "ac7830fb-bce8-4862-8234-70db9931ca68",
   "metadata": {},
   "outputs": [],
   "source": [
    "acc_train_forest = accuracy_score(y_train,y_train_forest)\n",
    "acc_test_forest = accuracy_score(y_test,y_test_forest)\n",
    "\n",
    "print(\"Random forest: Accuracy on training Data: {:.3f}\".format(acc_train_forest))\n",
    "print(\"Random forest: Accuracy on test Data: {:.3f}\".format(acc_test_forest))"
   ]
  },
  {
   "cell_type": "code",
   "execution_count": null,
   "id": "fbb6d03a-3243-4f97-82ff-c25158228bb7",
   "metadata": {},
   "outputs": [],
   "source": [
    "plt.figure(figsize=(9,7))\n",
    "n_features = X_train.shape[1]\n",
    "plt.barh(range(n_features), forest.feature_importances_, align='center')\n",
    "plt.yticks(np.arange(n_features), X_train.columns)\n",
    "plt.xlabel(\"Feature importance\")\n",
    "plt.ylabel(\"Feature\")\n",
    "plt.show()"
   ]
  },
  {
   "cell_type": "markdown",
   "id": "852a38a8-7f84-4acb-8289-0c626cf79037",
   "metadata": {},
   "source": [
    "##  Multipayer Perceptrons"
   ]
  },
  {
   "cell_type": "code",
   "execution_count": null,
   "id": "6417f90b-4b0a-4a7f-af08-c918efbc10b6",
   "metadata": {},
   "outputs": [],
   "source": [
    "from sklearn.neural_network import MLPClassifier\n",
    "\n",
    "mlp = MLPClassifier(alpha=0.001, hidden_layer_sizes=([100,100,100]))\n",
    "\n",
    "mlp.fit(X_train, y_train)"
   ]
  },
  {
   "cell_type": "code",
   "execution_count": null,
   "id": "40465cf7-f70e-45d5-b677-e21dedb4bb36",
   "metadata": {},
   "outputs": [],
   "source": [
    "y_test_mlp = mlp.predict(X_test)\n",
    "y_train_mlp = mlp.predict(X_train)"
   ]
  },
  {
   "cell_type": "code",
   "execution_count": null,
   "id": "210b7b29-57bd-4a8c-b7ed-5d92a9cb7398",
   "metadata": {},
   "outputs": [],
   "source": [
    "acc_train_mlp = accuracy_score(y_train,y_train_mlp)\n",
    "acc_test_mlp = accuracy_score(y_test,y_test_mlp)\n",
    "\n",
    "print(\"Multilayer Perceptrons: Accuracy on training Data: {:.3f}\".format(acc_train_mlp))\n",
    "print(\"Multilayer Perceptrons: Accuracy on test Data: {:.3f}\".format(acc_test_mlp))"
   ]
  },
  {
   "cell_type": "markdown",
   "id": "5cdbf935-4d7d-491a-b831-a9996d80da27",
   "metadata": {},
   "source": [
    "##  XGBoost"
   ]
  },
  {
   "cell_type": "code",
   "execution_count": null,
   "id": "9d725cc6-f83b-416c-b9c1-a11199cfdfa5",
   "metadata": {},
   "outputs": [],
   "source": [
    "from xgboost import XGBClassifier\n",
    "\n",
    "xgb = XGBClassifier(learning_rate=0.4,max_depth=7)\n",
    "xgb.fit(X_train, y_train)"
   ]
  },
  {
   "cell_type": "code",
   "execution_count": null,
   "id": "6cff0c42-af1c-4b33-bcda-c5ebf29f55be",
   "metadata": {},
   "outputs": [],
   "source": [
    "y_test_xgb = xgb.predict(X_test)\n",
    "y_train_xgb = xgb.predict(X_train)"
   ]
  },
  {
   "cell_type": "code",
   "execution_count": null,
   "id": "962d2832-c723-41dc-a3e7-891ab3903bfd",
   "metadata": {},
   "outputs": [],
   "source": [
    "acc_train_xgb = accuracy_score(y_train,y_train_xgb)\n",
    "acc_test_xgb = accuracy_score(y_test,y_test_xgb)\n",
    "\n",
    "print(\"XGBoost: Accuracy on training Data: {:.3f}\".format(acc_train_xgb))\n",
    "print(\"XGBoost : Accuracy on test Data: {:.3f}\".format(acc_test_xgb))"
   ]
  },
  {
   "cell_type": "markdown",
   "id": "16956d08-2f9b-407e-b86d-911c83865c39",
   "metadata": {},
   "source": [
    "##  Autoencoder"
   ]
  },
  {
   "cell_type": "code",
   "execution_count": null,
   "id": "1f519aa8-68f5-4e7d-97f6-29a905288568",
   "metadata": {},
   "outputs": [],
   "source": [
    "import keras\n",
    "from keras.layers import Input, Dense\n",
    "from keras import regularizers\n",
    "import tensorflow as tf\n",
    "from keras.models import Model\n",
    "from sklearn import metrics"
   ]
  },
  {
   "cell_type": "code",
   "execution_count": null,
   "id": "3c41a79c-db6c-4314-a3ad-fdb4b8d9bd29",
   "metadata": {},
   "outputs": [],
   "source": [
    "input_dim = X_train.shape[1]\n",
    "encoding_dim = input_dim\n",
    "\n",
    "input_layer = Input(shape=(input_dim, ))\n",
    "encoder = Dense(encoding_dim, activation=\"relu\",\n",
    "                activity_regularizer=regularizers.l1(10e-4))(input_layer)\n",
    "encoder = Dense(int(encoding_dim), activation=\"relu\")(encoder)\n",
    "\n",
    "encoder = Dense(int(encoding_dim-2), activation=\"relu\")(encoder)\n",
    "code = Dense(int(encoding_dim-4), activation='relu')(encoder)\n",
    "decoder = Dense(int(encoding_dim-2), activation='relu')(code)\n",
    "\n",
    "decoder = Dense(int(encoding_dim), activation='relu')(encoder)\n",
    "decoder = Dense(input_dim, activation='relu')(decoder)\n",
    "autoencoder = Model(inputs=input_layer, outputs=decoder)\n",
    "autoencoder.summary()"
   ]
  },
  {
   "cell_type": "code",
   "execution_count": null,
   "id": "ea432a3b-b86f-4f6b-a7a7-5f443da4489f",
   "metadata": {},
   "outputs": [],
   "source": [
    "autoencoder.compile(optimizer='adam',\n",
    "                    loss='binary_crossentropy',\n",
    "                    metrics=['accuracy'])\n",
    "\n",
    "\n",
    "history = autoencoder.fit(X_train, X_train, epochs=10, batch_size=64, shuffle=True, validation_split=0.2) "
   ]
  },
  {
   "cell_type": "code",
   "execution_count": null,
   "id": "b5ea8667-dcd8-4084-b855-6ec938f21b39",
   "metadata": {},
   "outputs": [],
   "source": [
    "acc_train_auto = autoencoder.evaluate(X_train, X_train)[1]\n",
    "acc_test_auto = autoencoder.evaluate(X_test, X_test)[1]\n",
    "\n",
    "print('\\nAutoencoder: Accuracy on training Data: {:.3f}' .format(acc_train_auto))\n",
    "print('Autoencoder: Accuracy on test Data: {:.3f}' .format(acc_test_auto))"
   ]
  },
  {
   "cell_type": "markdown",
   "id": "38f9f726-2a47-4e11-9b53-57cb40d9a4aa",
   "metadata": {},
   "source": [
    "##  Support Vectore Machines"
   ]
  },
  {
   "cell_type": "code",
   "execution_count": null,
   "id": "1231d088-54fa-4e12-a69b-7d3ce28778bd",
   "metadata": {},
   "outputs": [],
   "source": [
    "from sklearn.svm import SVC\n",
    "\n",
    "svm = SVC(kernel='linear', C=1.0, random_state=12)\n",
    "svm.fit(X_train, y_train)"
   ]
  },
  {
   "cell_type": "code",
   "execution_count": null,
   "id": "b0981713-55c6-4791-a429-63de6c5b2f11",
   "metadata": {},
   "outputs": [],
   "source": [
    "y_test_svm = svm.predict(X_test)\n",
    "y_train_svm = svm.predict(X_train)"
   ]
  },
  {
   "cell_type": "code",
   "execution_count": null,
   "id": "dfcc5a66-c44f-43d0-86eb-48efb09e8eff",
   "metadata": {},
   "outputs": [],
   "source": [
    "acc_train_svm = accuracy_score(y_train,y_train_svm)\n",
    "acc_test_svm = accuracy_score(y_test,y_test_svm)\n",
    "\n",
    "print(\"SVM: Accuracy on training Data: {:.3f}\".format(acc_train_svm))\n",
    "print(\"SVM : Accuracy on test Data: {:.3f}\".format(acc_test_svm))"
   ]
  },
  {
   "cell_type": "code",
   "execution_count": null,
   "id": "0f7c87bf-4fab-4e7c-8a3e-b35b7c3e6bda",
   "metadata": {},
   "outputs": [],
   "source": [
    "from sklearn.inspection import permutation_importance\n",
    "import numpy as np\n",
    "import matplotlib.pyplot as plt\n",
    "%matplotlib inline\n",
    "\n",
    "svc =  SVC(kernel='rbf', C=2)\n",
    "svc.fit(X_train, y_train)\n",
    "\n",
    "perm_importance = permutation_importance(svc, X_test, y_test)\n",
    "\n",
    "feature_names = ['Have_IP', 'Have_At', 'URL_Length', 'URL_Depth', 'Redirection','https_Domain', 'TinyURL', 'Prefix/Suffix']\n",
    "features = np.array(feature_names)\n",
    "\n",
    "sorted_idx = perm_importance.importances_mean.argsort()\n",
    "plt.figure(figsize=(9,7))\n",
    "plt.xlabel(\"Feature importance\")\n",
    "plt.ylabel(\"Feature\")\n",
    "plt.barh(features[sorted_idx], perm_importance.importances_mean[sorted_idx])\n"
   ]
  },
  {
   "cell_type": "code",
   "execution_count": null,
   "id": "eea98e15-a5ee-4c89-9c0b-02f7f21abc58",
   "metadata": {},
   "outputs": [],
   "source": []
  },
  {
   "cell_type": "code",
   "execution_count": null,
   "id": "e6d529ec-9d29-47dc-b18e-3a77a712f0b4",
   "metadata": {},
   "outputs": [],
   "source": []
  }
 ],
 "metadata": {
  "kernelspec": {
   "display_name": "Python 3",
   "language": "python",
   "name": "python3"
  },
  "language_info": {
   "codemirror_mode": {
    "name": "ipython",
    "version": 3
   },
   "file_extension": ".py",
   "mimetype": "text/x-python",
   "name": "python",
   "nbconvert_exporter": "python",
   "pygments_lexer": "ipython3",
   "version": "3.6.9"
  }
 },
 "nbformat": 4,
 "nbformat_minor": 5
}
